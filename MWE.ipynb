{
 "cells": [
  {
   "cell_type": "code",
   "execution_count": 1,
   "metadata": {},
   "outputs": [],
   "source": [
    "import SimpleITK as sitk\n",
    "import matplotlib.pyplot as plt\n",
    "import numpy as np\n",
    "from scipy.spatial.transform import Rotation\n",
    "import scipy.ndimage as ndimage"
   ]
  },
  {
   "cell_type": "code",
   "execution_count": 2,
   "metadata": {},
   "outputs": [],
   "source": [
    "def show_all_imgs(imgs, fig_title=None, titles=None, *args, **kwargs):\n",
    "    \"\"\"\n",
    "    Shows all the MRIS for one patient. \n",
    "    Args:\n",
    "        imgs (list): list of all the mris, hopefully ordered but not necessary\n",
    "        title (list): list of the titles corresponding to the mris\n",
    "        **kwargs (dict): give the arguments for the figure (typically, figsize)\n",
    "    \"\"\"\n",
    "    fig = plt.figure(**kwargs)\n",
    "    if fig_title is not None:\n",
    "        fig.suptitle(fig_title)\n",
    "    axs = fig.subplots(1, len(imgs))\n",
    "    for idx, (ax, img) in enumerate(zip(axs, imgs)):\n",
    "        if titles is not None:\n",
    "            title = titles[idx]\n",
    "        else:\n",
    "            title = idx\n",
    "        ax.set_title(title)\n",
    "        ax.imshow(img, cmap='gray')\n",
    "            \n",
    "    print('Showing {} figures.'.format(len(imgs)))\n",
    "\n",
    "\n",
    "def compare_all_imgs(group_imgs, title_group=None, group_titles=None, size_per_img=5, *args, **kwargs):\n",
    "    for idx, imgs in enumerate(group_imgs):\n",
    "        if group_titles is not None:\n",
    "            titles = group_titles[idx]\n",
    "        else:\n",
    "            titles = None\n",
    "        fig_title = None\n",
    "        if title_group is not None:\n",
    "            fig_title = title_group[idx]\n",
    "        show_all_imgs(\n",
    "            imgs, titles=titles, fig_title=fig_title,\n",
    "            figsize=(size_per_img*len(imgs), size_per_img), *args, **kwargs)"
   ]
  },
  {
   "cell_type": "code",
   "execution_count": 3,
   "metadata": {},
   "outputs": [],
   "source": [
    "def get_affine_array_from_params(params):\n",
    "    \"\"\"\n",
    "    Gets the transformation array T such that: new_indexes = T @ old_indexes\n",
    "    \n",
    "    Args:\n",
    "        params (tuple-like): list of strings of a flattened array in the sense (col, col, .., col)\n",
    "    \n",
    "    Returns:\n",
    "        ndarray: transformation array T such that new_indexes = T @ old_indexes\n",
    "    \"\"\"\n",
    "    params = np.array(params).astype(float)\n",
    "\n",
    "    dim = int( (np.sqrt(1 + 4*len(params) - 1))/2 )\n",
    "    or_matrix = params[:dim**2].reshape(dim, dim).T\n",
    "    translation_matrix = params[dim**2:]\n",
    "\n",
    "    M = np.eye(dim + 1)\n",
    "    M[:dim,:dim] = or_matrix\n",
    "    M[:-1, -1] = translation_matrix\n",
    "    \n",
    "    return M\n",
    "\n",
    "def apply_transform(\n",
    "    ar, \n",
    "    T, \n",
    "    **kwargs\n",
    "):\n",
    "    \"\"\"\n",
    "    Apply a transformation array T to each element of array ar. Returns\n",
    "    ar[T(i)] for indexes i.\n",
    "    \n",
    "    Args:\n",
    "        ar (ndarray): array to transform\n",
    "        T (ndarray): square array of shape len(ar.shape) + 1\n",
    "    \n",
    "    Returns:\n",
    "        ndarray: same shape as ar. ar[T(i)] for all indexes i, interpolated.\n",
    "    \"\"\"\n",
    "    center = np.array([(shp -1)/2 for shp in ar.shape])\n",
    "\n",
    "    rot_matrix = T[:-1, :-1]\n",
    "    trans_matrix = T[:-1, -1]\n",
    "    offset = trans_matrix - rot_matrix @ center + center\n",
    "    res = ndimage.affine_transform(ar, rot_matrix, offset=offset, order=0)\n",
    "\n",
    "    return res\n",
    "\n",
    "def correct_transform(M, correction):\n",
    "    \"\"\"\n",
    "    When elastix converts numpy array to an image, it changes coordinates (x,   )\n",
    "    to match standard. We have to correct the output transformation by inverting coordinates\n",
    "    x and z.\n",
    "    \n",
    "    Args:\n",
    "        M (ndarray): Output transform from elastix\n",
    "    \n",
    "    Returns:\n",
    "        ndarray: corrected transform to apply to numpy images\n",
    "    \"\"\"\n",
    "    M2 = M + 0\n",
    "    rot = M[:-1, :-1]\n",
    "    M2[-2, -1], M2[0, -1] = M2[0, -1], M2[-2, -1]   # translation x <-> z        \n",
    "    M2[:-1,:-1] = rot[::-1, ::-1]                 \n",
    "    return M2"
   ]
  },
  {
   "cell_type": "markdown",
   "metadata": {},
   "source": [
    "# Elastix Transform Parameters"
   ]
  },
  {
   "cell_type": "markdown",
   "metadata": {},
   "source": [
    "How does elastix handle the transform parameters? How to pass from the transform parameters `trans['TransformParameters']`, in SimpleITK Image type, to the affine matrix to transform indexes in numpy?"
   ]
  },
  {
   "cell_type": "code",
   "execution_count": 9,
   "metadata": {},
   "outputs": [],
   "source": [
    "path_to_transform_file = \"ExampleTransform.txt\""
   ]
  },
  {
   "cell_type": "code",
   "execution_count": 10,
   "metadata": {},
   "outputs": [
    {
     "name": "stdout",
     "output_type": "stream",
     "text": [
      "Showing 4 figures.\n"
     ]
    },
    {
     "data": {
      "image/png": "[encoded data removed]",
      "text/plain": [
       "<Figure size 1440x360 with 4 Axes>"
      ]
     },
     "metadata": {
      "needs_background": "light"
     },
     "output_type": "display_data"
    }
   ],
   "source": [
    "# Create cube\n",
    "cube = np.zeros((16, 16, 4))\n",
    "mid_idx = [16 // 2, 16 // 2]\n",
    "for i in range(cube.shape[2]):\n",
    "    cube[mid_idx[0] - i:mid_idx[0]+i+1, mid_idx[1] - i:mid_idx[1]+i+1, i] = 1\n",
    "show_all_imgs(cube.transpose(2,0,1), figsize=(5*cube.shape[-1], 5))    "
   ]
  },
  {
   "cell_type": "code",
   "execution_count": 11,
   "metadata": {},
   "outputs": [],
   "source": [
    "# Get affine transform\n",
    "affine_trans = sitk.ReadParameterFile(path_to_transform_file)"
   ]
  },
  {
   "cell_type": "code",
   "execution_count": 12,
   "metadata": {},
   "outputs": [
    {
     "name": "stdout",
     "output_type": "stream",
     "text": [
      "CPU times: user 8.71 ms, sys: 0 ns, total: 8.71 ms\n",
      "Wall time: 30.1 ms\n"
     ]
    }
   ],
   "source": [
    "%%time\n",
    "# Apply transformix transform\n",
    "itk_cube = sitk.GetImageFromArray(cube)\n",
    "resultCube = sitk.Transformix(itk_cube, affine_trans)\n",
    "itk_res = sitk.GetArrayFromImage(resultCube)"
   ]
  },
  {
   "cell_type": "code",
   "execution_count": 13,
   "metadata": {},
   "outputs": [
    {
     "name": "stdout",
     "output_type": "stream",
     "text": [
      "CPU times: user 2.12 ms, sys: 387 µs, total: 2.5 ms\n",
      "Wall time: 1.51 ms\n"
     ]
    }
   ],
   "source": [
    "%%time\n",
    "# Apply numpy transform\n",
    "T_itk = get_affine_array_from_params(affine_trans['TransformParameters'])\n",
    "\n",
    "T_numpy = correct_transform(T_itk, correction='invert_xz')\n",
    "res_numpy = apply_transform(cube, T_numpy)\n"
   ]
  },
  {
   "cell_type": "code",
   "execution_count": 16,
   "metadata": {},
   "outputs": [
    {
     "name": "stdout",
     "output_type": "stream",
     "text": [
      "[[ 0.98 -0.17  0.09  1.  ]\n",
      " [ 0.17  0.98  0.    3.  ]\n",
      " [-0.09  0.02  1.    2.  ]\n",
      " [ 0.    0.    0.    1.  ]]\n",
      "[[ 1.    0.02 -0.09  2.  ]\n",
      " [ 0.    0.98  0.17  3.  ]\n",
      " [ 0.09 -0.17  0.98  1.  ]\n",
      " [ 0.    0.    0.    1.  ]]\n"
     ]
    }
   ],
   "source": [
    "print(np.round(T_itk, 2))\n",
    "print(np.round(T_numpy, 2))"
   ]
  },
  {
   "cell_type": "code",
   "execution_count": 15,
   "metadata": {},
   "outputs": [
    {
     "name": "stdout",
     "output_type": "stream",
     "text": [
      "Showing 4 figures.\n",
      "Showing 4 figures.\n",
      "Showing 4 figures.\n"
     ]
    },
    {
     "data": {
      "image/png": "[encoded data removed]",
      "text/plain": [
       "<Figure size 1440x360 with 4 Axes>"
      ]
     },
     "metadata": {
      "needs_background": "light"
     },
     "output_type": "display_data"
    },
    {
     "data": {
      "image/png": "[encoded data removed]",
      "text/plain": [
       "<Figure size 1440x360 with 4 Axes>"
      ]
     },
     "metadata": {
      "needs_background": "light"
     },
     "output_type": "display_data"
    },
    {
     "data": {
      "image/png": "[encoded data removed]",
      "text/plain": [
       "<Figure size 1440x360 with 4 Axes>"
      ]
     },
     "metadata": {
      "needs_background": "light"
     },
     "output_type": "display_data"
    }
   ],
   "source": [
    "compare_all_imgs(\n",
    "    [\n",
    "        cube.transpose(2,1,0),\n",
    "        itk_res.transpose(2,1,0),\n",
    "        res_numpy.transpose(2,1,0)\n",
    "    ],\n",
    "    [\n",
    "        'Input',\n",
    "        'Transformix Transform',\n",
    "        'Correction by inverting x and z coordinate',\n",
    "    ]\n",
    "\n",
    ")"
   ]
  },
  {
   "cell_type": "code",
   "execution_count": null,
   "metadata": {},
   "outputs": [],
   "source": []
  }
 ],
 "metadata": {
  "kernelspec": {
   "display_name": "venv",
   "language": "python",
   "name": "venv"
  },
  "language_info": {
   "codemirror_mode": {
    "name": "ipython",
    "version": 3
   },
   "file_extension": ".py",
   "mimetype": "text/x-python",
   "name": "python",
   "nbconvert_exporter": "python",
   "pygments_lexer": "ipython3",
   "version": "3.7.5"
  }
 },
 "nbformat": 4,
 "nbformat_minor": 2
}
